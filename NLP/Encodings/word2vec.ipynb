{
 "cells": [
  {
   "cell_type": "code",
   "execution_count": 1,
   "id": "896cc7c0",
   "metadata": {},
   "outputs": [],
   "source": [
    "import gensim"
   ]
  },
  {
   "cell_type": "code",
   "execution_count": 2,
   "id": "16f0f3ae",
   "metadata": {},
   "outputs": [],
   "source": [
    "from gensim.models import Word2Vec, KeyedVectors"
   ]
  },
  {
   "cell_type": "code",
   "execution_count": 2,
   "id": "465e3e5d",
   "metadata": {},
   "outputs": [
    {
     "name": "stdout",
     "output_type": "stream",
     "text": [
      "Gensim data directory: C:\\Users\\Akshay R K/gensim-data\n"
     ]
    }
   ],
   "source": [
    "import gensim.downloader as api\n",
    "import shutil\n",
    "\n",
    "# Find the gensim data directory\n",
    "data_dir = api.base_dir\n",
    "print(f\"Gensim data directory: {data_dir}\")\n",
    "\n",
    "# wv = api.load(\"word2vec-google-news-300\")"
   ]
  },
  {
   "cell_type": "code",
   "execution_count": 3,
   "id": "22dd969b",
   "metadata": {},
   "outputs": [],
   "source": [
    "import os\n",
    "model_dir = os.path.join(data_dir, \"word2vec-google-news-300\")"
   ]
  },
  {
   "cell_type": "code",
   "execution_count": 4,
   "id": "98f341e3",
   "metadata": {},
   "outputs": [
    {
     "data": {
      "text/plain": [
       "'C:\\\\Users\\\\Akshay R K/gensim-data\\\\word2vec-google-news-300'"
      ]
     },
     "execution_count": 4,
     "metadata": {},
     "output_type": "execute_result"
    }
   ],
   "source": [
    "model_dir"
   ]
  },
  {
   "cell_type": "code",
   "execution_count": 5,
   "id": "6599a4d3",
   "metadata": {},
   "outputs": [],
   "source": [
    "if os.path.exists(model_dir):\n",
    "    shutil.rmtree(model_dir)\n",
    "    print(\"Removed partial download\")"
   ]
  },
  {
   "cell_type": "code",
   "execution_count": 8,
   "id": "fad1eda4",
   "metadata": {},
   "outputs": [
    {
     "ename": "NameError",
     "evalue": "name 'wv' is not defined",
     "output_type": "error",
     "traceback": [
      "\u001b[31m---------------------------------------------------------------------------\u001b[39m",
      "\u001b[31mNameError\u001b[39m                                 Traceback (most recent call last)",
      "\u001b[36mCell\u001b[39m\u001b[36m \u001b[39m\u001b[32mIn[8]\u001b[39m\u001b[32m, line 2\u001b[39m\n\u001b[32m      1\u001b[39m \u001b[38;5;66;03m# wv = api.load(\"word2vec-google-news-300\")\u001b[39;00m\n\u001b[32m----> \u001b[39m\u001b[32m2\u001b[39m \u001b[43mwv\u001b[49m[\u001b[33m\"\u001b[39m\u001b[33mking\u001b[39m\u001b[33m\"\u001b[39m]\n",
      "\u001b[31mNameError\u001b[39m: name 'wv' is not defined"
     ]
    }
   ],
   "source": [
    "# wv = api.load(\"word2vec-google-news-300\")\n",
    "wv[\"king\"]"
   ]
  },
  {
   "cell_type": "code",
   "execution_count": 9,
   "id": "9071ea55",
   "metadata": {},
   "outputs": [
    {
     "ename": "NameError",
     "evalue": "name 'wv' is not defined",
     "output_type": "error",
     "traceback": [
      "\u001b[31m---------------------------------------------------------------------------\u001b[39m",
      "\u001b[31mNameError\u001b[39m                                 Traceback (most recent call last)",
      "\u001b[36mCell\u001b[39m\u001b[36m \u001b[39m\u001b[32mIn[9]\u001b[39m\u001b[32m, line 1\u001b[39m\n\u001b[32m----> \u001b[39m\u001b[32m1\u001b[39m \u001b[43mwv\u001b[49m[\u001b[33m\"\u001b[39m\u001b[33mcricket\u001b[39m\u001b[33m\"\u001b[39m]\n",
      "\u001b[31mNameError\u001b[39m: name 'wv' is not defined"
     ]
    }
   ],
   "source": [
    "wv[\"cricket\"]"
   ]
  },
  {
   "cell_type": "code",
   "execution_count": null,
   "id": "573ca9b0",
   "metadata": {},
   "outputs": [],
   "source": [
    "wv.most_similar(\"cricket\")"
   ]
  }
 ],
 "metadata": {
  "kernelspec": {
   "display_name": ".venv",
   "language": "python",
   "name": "python3"
  },
  "language_info": {
   "codemirror_mode": {
    "name": "ipython",
    "version": 3
   },
   "file_extension": ".py",
   "mimetype": "text/x-python",
   "name": "python",
   "nbconvert_exporter": "python",
   "pygments_lexer": "ipython3",
   "version": "3.12.11"
  }
 },
 "nbformat": 4,
 "nbformat_minor": 5
}
