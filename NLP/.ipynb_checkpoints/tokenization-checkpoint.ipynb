{
 "cells": [
  {
   "cell_type": "code",
   "execution_count": 2,
   "id": "f21d96ff-cc4f-4772-82d4-f4e64215119c",
   "metadata": {},
   "outputs": [],
   "source": [
    "from nltk.tokenize import sent_tokenize"
   ]
  },
  {
   "cell_type": "code",
   "execution_count": 3,
   "id": "f9af8df0-76c0-4077-8b79-f57ba426299e",
   "metadata": {},
   "outputs": [],
   "source": [
    "corpus = \"\"\"Hello Welcome, to Akshay RK world of Artificial Intelligence.\n",
    "We build AI tools and Automate the world happily. To make this world beautiful!\n",
    "\"\"\""
   ]
  },
  {
   "cell_type": "code",
   "execution_count": 4,
   "id": "355733fa-8803-4e71-8c48-e7f66ce7a817",
   "metadata": {},
   "outputs": [
    {
     "data": {
      "text/plain": [
       "'\\n1st step: Convert Sentence ---> paragraph\\n'"
      ]
     },
     "execution_count": 4,
     "metadata": {},
     "output_type": "execute_result"
    }
   ],
   "source": [
    "\"\"\"\n",
    "1st step: Convert Sentence ---> paragraph\n",
    "\"\"\""
   ]
  },
  {
   "cell_type": "code",
   "execution_count": 6,
   "id": "5f29ca23-e5da-45bb-a611-594a20843f99",
   "metadata": {},
   "outputs": [],
   "source": [
    "documents = sent_tokenize(corpus)"
   ]
  },
  {
   "cell_type": "code",
   "execution_count": 7,
   "id": "4027af62-7a73-42a8-8849-b83eacefb923",
   "metadata": {},
   "outputs": [
    {
     "data": {
      "text/plain": [
       "['Hello Welcome, to Akshay RK world of Artificial Intelligence.',\n",
       " 'We build AI tools and Automate the world happily.',\n",
       " 'To make this world beautiful!']"
      ]
     },
     "execution_count": 7,
     "metadata": {},
     "output_type": "execute_result"
    }
   ],
   "source": [
    "documents"
   ]
  },
  {
   "cell_type": "code",
   "execution_count": 11,
   "id": "4dbcf536-220e-4b6e-9618-cb80ccee2f49",
   "metadata": {},
   "outputs": [],
   "source": [
    "##Tokenization\n",
    "##Paragraph ---> words\n",
    "##sentence ---> words\n",
    "from nltk.tokenize import word_tokenize"
   ]
  },
  {
   "cell_type": "code",
   "execution_count": 12,
   "id": "c1743589-1d89-4609-90e1-e955505db07e",
   "metadata": {},
   "outputs": [
    {
     "data": {
      "text/plain": [
       "['Hello',\n",
       " 'Welcome',\n",
       " ',',\n",
       " 'to',\n",
       " 'Akshay',\n",
       " 'RK',\n",
       " 'world',\n",
       " 'of',\n",
       " 'Artificial',\n",
       " 'Intelligence',\n",
       " '.',\n",
       " 'We',\n",
       " 'build',\n",
       " 'AI',\n",
       " 'tools',\n",
       " 'and',\n",
       " 'Automate',\n",
       " 'the',\n",
       " 'world',\n",
       " 'happily',\n",
       " '.',\n",
       " 'To',\n",
       " 'make',\n",
       " 'this',\n",
       " 'world',\n",
       " 'beautiful',\n",
       " '!']"
      ]
     },
     "execution_count": 12,
     "metadata": {},
     "output_type": "execute_result"
    }
   ],
   "source": [
    "word_tokenize(corpus)"
   ]
  },
  {
   "cell_type": "code",
   "execution_count": 14,
   "id": "c477bf00-e5b3-4b60-9efb-bb80596e0e31",
   "metadata": {},
   "outputs": [],
   "source": [
    "from nltk.tokenize import wordpunct_tokenize"
   ]
  },
  {
   "cell_type": "code",
   "execution_count": 15,
   "id": "1d70e6ca-e797-446c-a00f-020fdfdad48c",
   "metadata": {},
   "outputs": [
    {
     "data": {
      "text/plain": [
       "['Hello',\n",
       " 'Welcome',\n",
       " ',',\n",
       " 'to',\n",
       " 'Akshay',\n",
       " 'RK',\n",
       " 'world',\n",
       " 'of',\n",
       " 'Artificial',\n",
       " 'Intelligence',\n",
       " '.',\n",
       " 'We',\n",
       " 'build',\n",
       " 'AI',\n",
       " 'tools',\n",
       " 'and',\n",
       " 'Automate',\n",
       " 'the',\n",
       " 'world',\n",
       " 'happily',\n",
       " '.',\n",
       " 'To',\n",
       " 'make',\n",
       " 'this',\n",
       " 'world',\n",
       " 'beautiful',\n",
       " '!']"
      ]
     },
     "execution_count": 15,
     "metadata": {},
     "output_type": "execute_result"
    }
   ],
   "source": [
    "wordpunct_tokenize(corpus)"
   ]
  },
  {
   "cell_type": "code",
   "execution_count": 16,
   "id": "82347a8a-ae1b-4ac4-b272-78522e46fc06",
   "metadata": {},
   "outputs": [],
   "source": [
    "from nltk.tokenize import TreebankWordTokenizer"
   ]
  },
  {
   "cell_type": "code",
   "execution_count": 17,
   "id": "2d8a1963-3f81-48d2-9c3f-cba657449508",
   "metadata": {},
   "outputs": [],
   "source": [
    "tokenizer = TreebankWordTokenizer()"
   ]
  },
  {
   "cell_type": "code",
   "execution_count": 18,
   "id": "4f0d8b5e-4156-4bf1-89d9-c06117b02bf5",
   "metadata": {},
   "outputs": [
    {
     "data": {
      "text/plain": [
       "['Hello',\n",
       " 'Welcome',\n",
       " ',',\n",
       " 'to',\n",
       " 'Akshay',\n",
       " 'RK',\n",
       " 'world',\n",
       " 'of',\n",
       " 'Artificial',\n",
       " 'Intelligence.',\n",
       " 'We',\n",
       " 'build',\n",
       " 'AI',\n",
       " 'tools',\n",
       " 'and',\n",
       " 'Automate',\n",
       " 'the',\n",
       " 'world',\n",
       " 'happily.',\n",
       " 'To',\n",
       " 'make',\n",
       " 'this',\n",
       " 'world',\n",
       " 'beautiful',\n",
       " '!']"
      ]
     },
     "execution_count": 18,
     "metadata": {},
     "output_type": "execute_result"
    }
   ],
   "source": [
    "tokenizer.tokenize(corpus)"
   ]
  },
  {
   "cell_type": "code",
   "execution_count": null,
   "id": "289b7b1e-eeaa-402a-9e48-3038d85e4e8d",
   "metadata": {},
   "outputs": [],
   "source": []
  }
 ],
 "metadata": {
  "kernelspec": {
   "display_name": "Python 3 (ipykernel)",
   "language": "python",
   "name": "python3"
  },
  "language_info": {
   "codemirror_mode": {
    "name": "ipython",
    "version": 3
   },
   "file_extension": ".py",
   "mimetype": "text/x-python",
   "name": "python",
   "nbconvert_exporter": "python",
   "pygments_lexer": "ipython3",
   "version": "3.13.7"
  }
 },
 "nbformat": 4,
 "nbformat_minor": 5
}
